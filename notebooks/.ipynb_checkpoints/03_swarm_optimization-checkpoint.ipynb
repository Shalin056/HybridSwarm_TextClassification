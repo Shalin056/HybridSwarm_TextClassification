{
 "cells": [
  {
   "cell_type": "code",
   "execution_count": 1,
   "id": "06236ed1",
   "metadata": {},
   "outputs": [
    {
     "name": "stdout",
     "output_type": "stream",
     "text": [
      "SRC Path Exists: True\n",
      "SRC Path: C:\\Users\\shali\\Documents\\shalin\\ASU_2nd_SEM\\APM 523 Optimization\\APM523_HybridSwarm_TextClassification\\src\n",
      "Successfully imported modules!\n"
     ]
    }
   ],
   "source": [
    "import os\n",
    "import sys\n",
    "import pandas as pd\n",
    "import numpy as np\n",
    "import pickle\n",
    "import tensorflow as tf\n",
    "from sklearn.metrics import accuracy_score, f1_score\n",
    "from sklearn.model_selection import train_test_split\n",
    "\n",
    "# Set the absolute path to the 'src' directory\n",
    "module_path = r\"C:\\Users\\shali\\Documents\\shalin\\ASU_2nd_SEM\\APM 523 Optimization\\APM523_HybridSwarm_TextClassification\\src\"\n",
    "if module_path not in sys.path:\n",
    "    sys.path.append(module_path)\n",
    "\n",
    "print(\"SRC Path Exists:\", os.path.exists(module_path))\n",
    "print(\"SRC Path:\", module_path)\n",
    "\n",
    "try:\n",
    "    from swarm_algorithms import PSO, GWO, HybridPSOGWO\n",
    "    from models import build_lstm_model\n",
    "    print(\"Successfully imported modules!\")\n",
    "except ImportError as e:\n",
    "    print(\"Error importing modules:\", e)\n",
    "\n",
    "np.random.seed(42)\n",
    "tf.random.set_seed(42)"
   ]
  },
  {
   "cell_type": "code",
   "execution_count": 2,
   "id": "7b8283b6",
   "metadata": {},
   "outputs": [
    {
     "name": "stdout",
     "output_type": "stream",
     "text": [
      "TF-IDF X_train_split shape: (9600, 5000)\n",
      "TF-IDF X_val shape: (2400, 5000)\n",
      "TF-IDF X_test shape: (7600, 5000)\n"
     ]
    }
   ],
   "source": [
    "#Load Preprocessed Data\n",
    "processed_dir = '../data/processed/'\n",
    "train_tfidf_path = os.path.join(processed_dir, 'train_tfidf.pkl')\n",
    "test_tfidf_path = os.path.join(processed_dir, 'test_tfidf.pkl')\n",
    "train_csv_path = os.path.join(processed_dir, 'train_preprocessed.csv')\n",
    "test_csv_path = os.path.join(processed_dir, 'test_preprocessed.csv')\n",
    "\n",
    "with open(train_tfidf_path, 'rb') as f:\n",
    "    X_train_tfidf = pickle.load(f)\n",
    "with open(test_tfidf_path, 'rb') as f:\n",
    "    X_test_tfidf = pickle.load(f)\n",
    "\n",
    "train_df = pd.read_csv(train_csv_path)\n",
    "test_df = pd.read_csv(test_csv_path)\n",
    "y_train = train_df['Class Index'].values - 1\n",
    "y_test = test_df['Class Index'].values - 1\n",
    "y_train_cat = tf.keras.utils.to_categorical(y_train, num_classes=4)\n",
    "y_test_cat = tf.keras.utils.to_categorical(y_test, num_classes=4)\n",
    "\n",
    "subset_size = int(0.1 * len(train_df))  # 12,000 samples for optimization\n",
    "train_subset_idx = np.random.choice(len(train_df), subset_size, replace=False)\n",
    "X_train_tfidf_subset = X_train_tfidf[train_subset_idx]\n",
    "y_train_cat_subset = y_train_cat[train_subset_idx]\n",
    "\n",
    "X_train_tfidf_split, X_val_tfidf, y_train_cat_split, y_val_cat = train_test_split(\n",
    "    X_train_tfidf_subset, y_train_cat_subset, test_size=0.2, random_state=42)\n",
    "\n",
    "print(\"TF-IDF X_train_split shape:\", X_train_tfidf_split.shape)\n",
    "print(\"TF-IDF X_val shape:\", X_val_tfidf.shape)\n",
    "print(\"TF-IDF X_test shape:\", X_test_tfidf.shape)"
   ]
  },
  {
   "cell_type": "code",
   "execution_count": 3,
   "id": "c16c05cb",
   "metadata": {},
   "outputs": [
    {
     "name": "stdout",
     "output_type": "stream",
     "text": [
      "PSO LSTM - Best Params: [90.14571225  0.37378921 47.00566802] Best Validation Accuracy: 0.8791666626930237\n"
     ]
    }
   ],
   "source": [
    "# PSO for LSTM\n",
    "lstm_bounds = [(32, 128), (0.2, 0.5), (16, 64)]  # [lstm_units, dropout_rate, batch_size]\n",
    "pso_lstm = PSO(n_particles=5, bounds=lstm_bounds, model_type='lstm', \n",
    "               input_dim=X_train_tfidf.shape[1], output_dim=4, \n",
    "               X_train=X_train_tfidf_split, y_train=y_train_cat_split, \n",
    "               X_val=X_val_tfidf, y_val=y_val_cat)\n",
    "best_params_lstm_pso, best_score_lstm_pso = pso_lstm.optimize(max_iter=5)  # Increased iterations\n",
    "print(\"PSO LSTM - Best Params:\", best_params_lstm_pso, \"Best Validation Accuracy:\", best_score_lstm_pso)"
   ]
  },
  {
   "cell_type": "code",
   "execution_count": 8,
   "id": "2a58ecaa",
   "metadata": {},
   "outputs": [
    {
     "name": "stdout",
     "output_type": "stream",
     "text": [
      "GWO LSTM - Best Params: [128.    0.5  64. ] Best Validation Accuracy: 0.8812500238418579\n"
     ]
    }
   ],
   "source": [
    "# GWO for LSTM\n",
    "gwo_lstm = GWO(n_wolves=5, bounds=lstm_bounds, model_type='lstm', \n",
    "               input_dim=X_train_tfidf.shape[1], output_dim=4, \n",
    "               X_train=X_train_tfidf_split, y_train=y_train_cat_split, \n",
    "               X_val=X_val_tfidf, y_val=y_val_cat)\n",
    "best_params_lstm_gwo, best_score_lstm_gwo = gwo_lstm.optimize(max_iter=5)\n",
    "print(\"GWO LSTM - Best Params:\", best_params_lstm_gwo, \"Best Validation Accuracy:\", best_score_lstm_gwo)"
   ]
  },
  {
   "cell_type": "code",
   "execution_count": 9,
   "id": "7c458234",
   "metadata": {},
   "outputs": [
    {
     "name": "stdout",
     "output_type": "stream",
     "text": [
      "Hybrid PSO-GWO LSTM - Best Params: [106.53311919   0.46339378  26.69795066] Best Validation Accuracy: 0.8787500262260437\n"
     ]
    }
   ],
   "source": [
    "# Hybrid PSO-GWO for LSTM\n",
    "hybrid_lstm = HybridPSOGWO(n_agents=5, bounds=lstm_bounds, model_type='lstm', \n",
    "                           input_dim=X_train_tfidf.shape[1], output_dim=4, \n",
    "                           X_train=X_train_tfidf_split, y_train=y_train_cat_split, \n",
    "                           X_val=X_val_tfidf, y_val=y_val_cat)\n",
    "best_params_lstm_hybrid, best_score_lstm_hybrid = hybrid_lstm.optimize(max_iter=5)\n",
    "print(\"Hybrid PSO-GWO LSTM - Best Params:\", best_params_lstm_hybrid, \"Best Validation Accuracy:\", best_score_lstm_hybrid)"
   ]
  },
  {
   "cell_type": "code",
   "execution_count": 10,
   "id": "8ac2e136",
   "metadata": {},
   "outputs": [
    {
     "name": "stdout",
     "output_type": "stream",
     "text": [
      "Epoch 1/10\n",
      "\u001b[1m2043/2043\u001b[0m \u001b[32m━━━━━━━━━━━━━━━━━━━━\u001b[0m\u001b[37m\u001b[0m \u001b[1m44s\u001b[0m 17ms/step - accuracy: 0.8032 - loss: 0.6117 - val_accuracy: 0.8858 - val_loss: 0.3206\n",
      "Epoch 2/10\n",
      "\u001b[1m2043/2043\u001b[0m \u001b[32m━━━━━━━━━━━━━━━━━━━━\u001b[0m\u001b[37m\u001b[0m \u001b[1m39s\u001b[0m 19ms/step - accuracy: 0.9037 - loss: 0.2980 - val_accuracy: 0.8797 - val_loss: 0.3325\n",
      "Epoch 3/10\n",
      "\u001b[1m2043/2043\u001b[0m \u001b[32m━━━━━━━━━━━━━━━━━━━━\u001b[0m\u001b[37m\u001b[0m \u001b[1m40s\u001b[0m 20ms/step - accuracy: 0.9105 - loss: 0.2684 - val_accuracy: 0.8818 - val_loss: 0.3410\n",
      "Epoch 4/10\n",
      "\u001b[1m2043/2043\u001b[0m \u001b[32m━━━━━━━━━━━━━━━━━━━━\u001b[0m\u001b[37m\u001b[0m \u001b[1m41s\u001b[0m 20ms/step - accuracy: 0.9156 - loss: 0.2493 - val_accuracy: 0.8818 - val_loss: 0.3541\n",
      "Epoch 1/10\n",
      "\u001b[1m1500/1500\u001b[0m \u001b[32m━━━━━━━━━━━━━━━━━━━━\u001b[0m\u001b[37m\u001b[0m \u001b[1m45s\u001b[0m 27ms/step - accuracy: 0.7858 - loss: 0.6803 - val_accuracy: 0.8855 - val_loss: 0.3203\n",
      "Epoch 2/10\n",
      "\u001b[1m1500/1500\u001b[0m \u001b[32m━━━━━━━━━━━━━━━━━━━━\u001b[0m\u001b[37m\u001b[0m \u001b[1m38s\u001b[0m 25ms/step - accuracy: 0.8999 - loss: 0.3216 - val_accuracy: 0.8811 - val_loss: 0.3300\n",
      "Epoch 3/10\n",
      "\u001b[1m1500/1500\u001b[0m \u001b[32m━━━━━━━━━━━━━━━━━━━━\u001b[0m\u001b[37m\u001b[0m \u001b[1m39s\u001b[0m 26ms/step - accuracy: 0.9070 - loss: 0.2912 - val_accuracy: 0.8801 - val_loss: 0.3387\n",
      "Epoch 4/10\n",
      "\u001b[1m1500/1500\u001b[0m \u001b[32m━━━━━━━━━━━━━━━━━━━━\u001b[0m\u001b[37m\u001b[0m \u001b[1m39s\u001b[0m 26ms/step - accuracy: 0.9105 - loss: 0.2706 - val_accuracy: 0.8804 - val_loss: 0.3490\n",
      "Epoch 1/10\n",
      "\u001b[1m3693/3693\u001b[0m \u001b[32m━━━━━━━━━━━━━━━━━━━━\u001b[0m\u001b[37m\u001b[0m \u001b[1m90s\u001b[0m 23ms/step - accuracy: 0.8078 - loss: 0.5821 - val_accuracy: 0.8856 - val_loss: 0.3234\n",
      "Epoch 2/10\n",
      "\u001b[1m3693/3693\u001b[0m \u001b[32m━━━━━━━━━━━━━━━━━━━━\u001b[0m\u001b[37m\u001b[0m \u001b[1m382s\u001b[0m 104ms/step - accuracy: 0.9020 - loss: 0.3066 - val_accuracy: 0.8832 - val_loss: 0.3338\n",
      "Epoch 3/10\n",
      "\u001b[1m3693/3693\u001b[0m \u001b[32m━━━━━━━━━━━━━━━━━━━━\u001b[0m\u001b[37m\u001b[0m \u001b[1m91s\u001b[0m 25ms/step - accuracy: 0.9077 - loss: 0.2792 - val_accuracy: 0.8827 - val_loss: 0.3429\n",
      "Epoch 4/10\n",
      "\u001b[1m3693/3693\u001b[0m \u001b[32m━━━━━━━━━━━━━━━━━━━━\u001b[0m\u001b[37m\u001b[0m \u001b[1m90s\u001b[0m 24ms/step - accuracy: 0.9120 - loss: 0.2597 - val_accuracy: 0.8811 - val_loss: 0.3615\n",
      "PSO-LSTM - Test Accuracy: 0.8927631578947368 F1-Score: 0.8922270260196712\n",
      "GWO-LSTM - Test Accuracy: 0.8936842105263157 F1-Score: 0.8932884973002894\n",
      "Hybrid-LSTM - Test Accuracy: 0.8914473684210527 F1-Score: 0.8909143777710412\n"
     ]
    }
   ],
   "source": [
    "# Train and Evaluate Optimized Models on Full Dataset\n",
    "early_stopping = tf.keras.callbacks.EarlyStopping(monitor='val_loss', patience=3, restore_best_weights=True)\n",
    "\n",
    "# PSO-optimized LSTM\n",
    "pso_model = build_lstm_model(input_dim=X_train_tfidf.shape[1], output_dim=4, \n",
    "                             lstm_units=int(best_params_lstm_pso[0]), dropout_rate=best_params_lstm_pso[1])\n",
    "pso_model.fit(X_train_tfidf, y_train_cat, epochs=10, batch_size=int(best_params_lstm_pso[2]), \n",
    "              validation_split=0.2, verbose=1, callbacks=[early_stopping])\n",
    "y_pred_pso = pso_model.predict(X_test_tfidf, verbose=0)\n",
    "pso_accuracy = accuracy_score(y_test, np.argmax(y_pred_pso, axis=1))\n",
    "pso_f1 = f1_score(y_test, np.argmax(y_pred_pso, axis=1), average='weighted')\n",
    "\n",
    "# GWO-optimized LSTM\n",
    "gwo_model = build_lstm_model(input_dim=X_train_tfidf.shape[1], output_dim=4, \n",
    "                             lstm_units=int(best_params_lstm_gwo[0]), dropout_rate=best_params_lstm_gwo[1])\n",
    "gwo_model.fit(X_train_tfidf, y_train_cat, epochs=10, batch_size=int(best_params_lstm_gwo[2]), \n",
    "              validation_split=0.2, verbose=1, callbacks=[early_stopping])\n",
    "y_pred_gwo = gwo_model.predict(X_test_tfidf, verbose=0)\n",
    "gwo_accuracy = accuracy_score(y_test, np.argmax(y_pred_gwo, axis=1))\n",
    "gwo_f1 = f1_score(y_test, np.argmax(y_pred_gwo, axis=1), average='weighted')\n",
    "\n",
    "# Hybrid-optimized LSTM\n",
    "hybrid_model = build_lstm_model(input_dim=X_train_tfidf.shape[1], output_dim=4, \n",
    "                                lstm_units=int(best_params_lstm_hybrid[0]), dropout_rate=best_params_lstm_hybrid[1])\n",
    "hybrid_model.fit(X_train_tfidf, y_train_cat, epochs=10, batch_size=int(best_params_lstm_hybrid[2]), \n",
    "                 validation_split=0.2, verbose=1, callbacks=[early_stopping])\n",
    "y_pred_hybrid = hybrid_model.predict(X_test_tfidf, verbose=0)\n",
    "hybrid_accuracy = accuracy_score(y_test, np.argmax(y_pred_hybrid, axis=1))\n",
    "hybrid_f1 = f1_score(y_test, np.argmax(y_pred_hybrid, axis=1), average='weighted')\n",
    "\n",
    "print(\"PSO-LSTM - Test Accuracy:\", pso_accuracy, \"F1-Score:\", pso_f1)\n",
    "print(\"GWO-LSTM - Test Accuracy:\", gwo_accuracy, \"F1-Score:\", gwo_f1)\n",
    "print(\"Hybrid-LSTM - Test Accuracy:\", hybrid_accuracy, \"F1-Score:\", hybrid_f1)"
   ]
  },
  {
   "cell_type": "code",
   "execution_count": 11,
   "id": "a64a72da",
   "metadata": {},
   "outputs": [
    {
     "name": "stdout",
     "output_type": "stream",
     "text": [
      "Swarm optimization results saved to ../outputs/results\n"
     ]
    }
   ],
   "source": [
    "# Cell 7: Save Results\n",
    "output_dir = '../outputs/'\n",
    "models_dir = os.path.join(output_dir, 'models')\n",
    "results_dir = os.path.join(output_dir, 'results')\n",
    "os.makedirs(models_dir, exist_ok=True)\n",
    "os.makedirs(results_dir, exist_ok=True)\n",
    "\n",
    "pso_model.save(os.path.join(models_dir, 'pso_lstm.keras'))\n",
    "gwo_model.save(os.path.join(models_dir, 'gwo_lstm.keras'))\n",
    "hybrid_model.save(os.path.join(models_dir, 'hybrid_lstm.keras'))\n",
    "\n",
    "results = pd.DataFrame({\n",
    "    'Model': ['PSO-LSTM', 'GWO-LSTM', 'Hybrid-PSO-GWO-LSTM'],\n",
    "    'Best_Params': [best_params_lstm_pso.tolist(), best_params_lstm_gwo.tolist(), best_params_lstm_hybrid.tolist()],\n",
    "    'Validation_Accuracy': [best_score_lstm_pso, best_score_lstm_gwo, best_score_lstm_hybrid],\n",
    "    'Test_Accuracy': [pso_accuracy, gwo_accuracy, hybrid_accuracy],\n",
    "    'Test_F1_Score': [pso_f1, gwo_f1, hybrid_f1]\n",
    "})\n",
    "results.to_csv(os.path.join(results_dir, 'swarm_optimization_results.csv'), index=False)\n",
    "print(\"Swarm optimization results saved to\", results_dir)"
   ]
  },
  {
   "cell_type": "code",
   "execution_count": null,
   "id": "5833358d",
   "metadata": {},
   "outputs": [],
   "source": []
  },
  {
   "cell_type": "code",
   "execution_count": null,
   "id": "e45d2592",
   "metadata": {},
   "outputs": [],
   "source": []
  },
  {
   "cell_type": "code",
   "execution_count": null,
   "id": "7a58a6bb",
   "metadata": {},
   "outputs": [],
   "source": []
  }
 ],
 "metadata": {
  "kernelspec": {
   "display_name": "Python 3 (ipykernel)",
   "language": "python",
   "name": "python3"
  },
  "language_info": {
   "codemirror_mode": {
    "name": "ipython",
    "version": 3
   },
   "file_extension": ".py",
   "mimetype": "text/x-python",
   "name": "python",
   "nbconvert_exporter": "python",
   "pygments_lexer": "ipython3",
   "version": "3.12.7"
  }
 },
 "nbformat": 4,
 "nbformat_minor": 5
}
